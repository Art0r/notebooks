{
 "cells": [
  {
   "cell_type": "code",
   "execution_count": null,
   "id": "d2025831-73f0-4a21-b309-52195196c54b",
   "metadata": {},
   "outputs": [
    {
     "data": {
      "text/plain": [
       "['/noticias/materias/2024/12/13/cdh-apoia-criacao-da-frente-mista-de-combate-a-violencia-politica-de-genero',\n",
       " '/noticias/materias/2024/12/12/girao-critica-declaracoes-de-lewandowski-e-questiona-postura-do-stf',\n",
       " '/noticias/materias/2024/12/16/como-a-reforma-tributaria-vai-mexer-com-o-brasil',\n",
       " '/noticias/materias/2024/12/16/reforma-tributaria-alimentos-da-cesta-basica-terao-isencao-veja-lista',\n",
       " '/noticias/materias/2024/12/16/novos-tributos-comecam-a-ser-testados-em-2026-e-transicao-vai-ate-2033',\n",
       " '/noticias/materias/2024/12/16/reforma-tributaria-assegura-desconto-de-30-e-ate-isencao-de-ibs-e-cbs',\n",
       " '/noticias/materias/2024/12/16/imposto-do-pecado-veiculos-loterias-alcool-e-cigarros-terao-maior-taxacao',\n",
       " '/noticias/materias/2024/12/16/reforma-tributaria-depende-de-novas-tecnologias-cashback-e-split-payment']"
      ]
     },
     "execution_count": 11,
     "metadata": {},
     "output_type": "execute_result"
    }
   ],
   "source": [
    "import requests\n",
    "from bs4 import BeautifulSoup\n",
    "\n",
    "url = \"https://news.microsoft.com/pt-br/recent-news/\"\n",
    "\n",
    "headers = {}\n",
    "\n",
    "response = requests.get(url, headers=headers)\n",
    "response_content = response.content.decode('UTF-8')\n",
    "\n",
    "soup = BeautifulSoup(response_content)\n",
    "\n",
    "news_link_list = [news_element['href'] for news_element in soup.select(\"a[class='Manchete-titulo']\")]\n",
    "news_link_list"
   ]
  },
  {
   "cell_type": "code",
   "execution_count": 25,
   "id": "92273375-9670-4a9a-8f2a-3b5520b38c86",
   "metadata": {},
   "outputs": [
    {
     "data": {
      "text/plain": [
       "['https://news.microsoft.com/pt-br/microsoft-airband-para-conectar-quase-40-milhoes-de-pessoas-na-america-latina-e-africa/',\n",
       " 'https://news.microsoft.com/pt-br/microsoft-brasil-anuncia-innovation-hub-espaco-dedicado-a-clientes-que-buscam-inovacao-e-transformacao-digital/',\n",
       " 'https://news.microsoft.com/pt-br/microsoft-disponibiliza-novos-servicos-de-azure-nas-regioes-brasileiras-com-foco-em-eficiencia-economia-e-seguranca/',\n",
       " 'https://news.microsoft.com/pt-br/cassi-reduz-de-dias-para-segundos-a-analise-de-autorizacoes-medicas-e-economiza-10-anuais-com-ia-do-microsoft-azure/',\n",
       " 'https://news.microsoft.com/pt-br/hospitais-da-universidade-de-oxford-inovam-com-microsoft-copilot-para-entregar-eficiencia-e-melhorar-o-bem-estar-da-forca-de-trabalho/',\n",
       " 'https://news.microsoft.com/pt-br/priscyla-laham-assume-a-presidencia-da-microsoft-brasil/',\n",
       " 'https://news.microsoft.com/pt-br/riachuelo-implementa-data-lake-corporativo-na-azure-e-aprimora-sua-governanca-de-dados/',\n",
       " 'https://news.microsoft.com/pt-br/novos-precos-solucoes-microsoft/',\n",
       " 'https://news.microsoft.com/pt-br/microsoft-e-idc-destacam-o-potencial-transformador-da-inteligencia-artificial-no-setor-publico-brasileiro/',\n",
       " 'https://news.microsoft.com/pt-br/microsoft-ignite-2024-inovacao-do-microsoft-365-copilot-em-seus-aplicativos-preferidos/',\n",
       " 'https://news.microsoft.com/pt-br/clientes-da-microsoft-compartilham-o-impacto-da-ia-generativa/',\n",
       " 'https://news.microsoft.com/pt-br/microsoft-abre-inscricoes-de-treinamento-em-microsoft-365-para-mulheres/',\n",
       " 'https://news.microsoft.com/pt-br/picpay-lanca-pix-no-whatsapp-com-ia-que-interpreta-audio-imagens-e-mensagens-alem-de-calcular-valores-automaticamente/']"
      ]
     },
     "execution_count": 25,
     "metadata": {},
     "output_type": "execute_result"
    }
   ],
   "source": [
    "import requests\n",
    "from bs4 import BeautifulSoup\n",
    "\n",
    "url = \"https://news.microsoft.com/pt-BR/recent-news/\"\n",
    "\n",
    "headers = {\n",
    "    \"User-Agent\": \"Mozilla/5.0 (Windows NT 10.0; Win64; x64) AppleWebKit/537.36 (KHTML, like Gecko) Chrome/129.0.0.0 Safari/537.36\",\n",
    "}\n",
    "\n",
    "response = requests.get(url, headers=headers)\n",
    "response_content = response.content.decode('UTF-8')\n",
    "\n",
    "soup = BeautifulSoup(response_content, 'html.parser')\n",
    "\n",
    "news_links = [a['href'] for a in soup.find_all(\"a\", {\"class\": [\"f-post-link\", \"c-heading-6\", \"m-chevron\", \"x-hidden-focus\"]})]\n",
    "news_links"
   ]
  }
 ],
 "metadata": {
  "kernelspec": {
   "display_name": ".venv",
   "language": "python",
   "name": "python3"
  },
  "language_info": {
   "codemirror_mode": {
    "name": "ipython",
    "version": 3
   },
   "file_extension": ".py",
   "mimetype": "text/x-python",
   "name": "python",
   "nbconvert_exporter": "python",
   "pygments_lexer": "ipython3",
   "version": "3.10.12"
  }
 },
 "nbformat": 4,
 "nbformat_minor": 5
}

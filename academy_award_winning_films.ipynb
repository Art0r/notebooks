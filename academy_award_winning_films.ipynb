{
 "cells": [
  {
   "cell_type": "code",
   "execution_count": 8,
   "id": "170d0fd8-2eb7-4312-a1e0-88aac9efe2f8",
   "metadata": {},
   "outputs": [],
   "source": [
    "from bs4 import BeautifulSoup\n",
    "import concurrent.futures\n",
    "import pandas as pd\n",
    "import requests\n",
    "import os\n",
    "\n",
    "ROOT_URL=\"https://en.wikipedia.org\" \n",
    "URL=f\"{ROOT_URL}/wiki/List_of_Academy_Award%E2%80%93winning_films\"\n",
    "NOMINEES_PATH = os.path.join(os.getcwd(), \"oscar_nominees\")"
   ]
  },
  {
   "cell_type": "code",
   "execution_count": 9,
   "id": "8cd5d4fd-1e66-46a1-a16a-85a6a5919b6b",
   "metadata": {},
   "outputs": [],
   "source": [
    "nominees_response=requests.get(URL)\n",
    "nominees_html=nominees_response.content.decode()\n",
    "nominees_soup=BeautifulSoup(nominees_html, 'html.parser')\n",
    "nominees_table=nominees_soup.select_one(\".wikitable\")\n",
    "nominees_links=[a[\"href\"] for a in nominees_table.select(\"a\") if \"_in_film\" not in a[\"href\"] and \"#\" not in a[\"href\"]]"
   ]
  },
  {
   "cell_type": "code",
   "execution_count": null,
   "id": "4bbeff79-c050-4661-9859-fa0a86be4d80",
   "metadata": {},
   "outputs": [],
   "source": [
    "# EXECUTE ONLY IF IT FOLDER DOES NOT EXISTS\n",
    "\n",
    "get_nominee_page=lambda link: requests.get(ROOT_URL + link).content.decode()\n",
    "write_page_to_file=lambda link, index: open(os.path.join(NOMINEES_PATH, f\"{index}.html\"), \"w\").write(get_nominee_page(link))\n",
    "\n",
    "def get_nominees_pages(link: str, index: int):\n",
    "    page = requests.get(ROOT_URL + link)\n",
    "    with open(os.path.join(NOMINEES_PATH, f\"{index}.html\"), \"w\") as f:\n",
    "        f.write(page.content.decode())\n",
    "\n",
    "if os.path.isdir(NOMINEES_PATH):\n",
    "    os.removedirs(NOMINEES_PATH)\n",
    "\n",
    "os.makedirs(NOMINEES_PATH)\n",
    "\n",
    "with concurrent.futures.ThreadPoolExecutor(max_workers=5) as executor:\n",
    "    futures = [executor.submit(write_page_to_file, link, index) for index, link in enumerate(nominees_links)]\n",
    "    for future in futures:\n",
    "        future.result()"
   ]
  },
  {
   "cell_type": "code",
   "execution_count": 70,
   "id": "955518a2-3f28-4aba-933d-e58a3501fbbc",
   "metadata": {},
   "outputs": [],
   "source": [
    "nominee_pages = []\n",
    "def get_nominees_pages_as_bs4(doc: str):\n",
    "    if \".html\" in doc:\n",
    "        nominee_pages.append(BeautifulSoup(open(os.path.join(NOMINEES_PATH, doc), 'r').read(),\"html.parser\"))\n",
    "\n",
    "with concurrent.futures.ThreadPoolExecutor(max_workers=5) as executor:\n",
    "    futures = [executor.submit(get_nominees_pages_as_bs4, file) for file in os.listdir(NOMINEES_PATH)]\n",
    "    for future in futures:\n",
    "        future.result()"
   ]
  },
  {
   "cell_type": "code",
   "execution_count": null,
   "id": "554a9228-2127-41c6-b0ce-21bac05c834a",
   "metadata": {},
   "outputs": [],
   "source": [
    "nominee_pages"
   ]
  }
 ],
 "metadata": {
  "kernelspec": {
   "display_name": "Python 3 (ipykernel)",
   "language": "python",
   "name": "python3"
  },
  "language_info": {
   "codemirror_mode": {
    "name": "ipython",
    "version": 3
   },
   "file_extension": ".py",
   "mimetype": "text/x-python",
   "name": "python",
   "nbconvert_exporter": "python",
   "pygments_lexer": "ipython3",
   "version": "3.10.12"
  }
 },
 "nbformat": 4,
 "nbformat_minor": 5
}
